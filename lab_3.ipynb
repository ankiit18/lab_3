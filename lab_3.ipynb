{
  "nbformat": 4,
  "nbformat_minor": 0,
  "metadata": {
    "colab": {
      "provenance": []
    },
    "kernelspec": {
      "name": "python3",
      "display_name": "Python 3"
    },
    "language_info": {
      "name": "python"
    }
  },
  "cells": [
    {
      "cell_type": "code",
      "execution_count": null,
      "metadata": {
        "colab": {
          "base_uri": "https://localhost:8080/"
        },
        "id": "lNIo6WRlXmA2",
        "outputId": "8e0c559f-2b3a-4157-b505-3f594fe3aa45"
      },
      "outputs": [
        {
          "output_type": "stream",
          "name": "stdout",
          "text": [
            "Average Cohen's Kappa: 0.9716324637779374\n"
          ]
        }
      ],
      "source": [
        "import pandas as pd\n",
        "import json\n",
        "import numpy as np\n",
        "from sklearn.metrics import cohen_kappa_score\n",
        "from statsmodels.stats.inter_rater import fleiss_kappa\n",
        "\n",
        "# Read the CSV files\n",
        "file_path_1 = 'file1.csv'  # Replace with your file path\n",
        "file_path_2 = 'file2.csv'  # Replace with your file path\n",
        "\n",
        "# Load the data\n",
        "df1 = pd.read_csv(file_path_1)\n",
        "df2 = pd.read_csv(file_path_2)\n",
        "\n",
        "# Extract POS tags from the JSON-like strings\n",
        "def extract_labels(pos_tag_column):\n",
        "    # Convert JSON string to dictionary\n",
        "    pos_tags = []\n",
        "    for item in pos_tag_column:\n",
        "        # Check if the item is a string before trying to parse it\n",
        "        if isinstance(item, str):\n",
        "            try:\n",
        "                annotation = json.loads(item)\n",
        "                # Extract labels from each dictionary entry\n",
        "                labels = []\n",
        "                for entry in annotation:\n",
        "                    if 'labels' in entry:\n",
        "                        labels.append(entry['labels'][0])  # Assuming there's only one label in 'labels'\n",
        "                    else:\n",
        "                        labels.append('UNKNOWN')  # Use a default value if 'labels' key is missing\n",
        "                pos_tags.append(labels)\n",
        "            except json.JSONDecodeError:\n",
        "                print(f\"Error decoding JSON: {item}\")\n",
        "                pos_tags.append([])  # Add an empty list if there's an issue\n",
        "        else:\n",
        "            pos_tags.append([])  # Add an empty list for non-string items\n",
        "    return pos_tags\n",
        "\n",
        "# Extract the POS tags for both annotators\n",
        "pos_tags_1 = extract_labels(df1['pos_tag'])\n",
        "pos_tags_2 = extract_labels(df2['pos_tag'])\n",
        "\n",
        "# Filter out empty lists (rows where there's no POS tagging)\n",
        "valid_pairs = [(tags_1, tags_2) for tags_1, tags_2 in zip(pos_tags_1, pos_tags_2) if len(tags_1) == len(tags_2) and len(tags_1) > 0]\n",
        "\n",
        "# If there are no valid pairs left, print a warning and stop the computation\n",
        "if not valid_pairs:\n",
        "    print(\"No valid pairs of annotations found.\")\n",
        "else:\n",
        "    # Calculate Cohen's Kappa for valid pairs\n",
        "    cohen_kappa_scores = [cohen_kappa_score(tags_1, tags_2) for tags_1, tags_2 in valid_pairs]\n",
        "\n",
        "    # Calculate the average Cohen's Kappa score\n",
        "    average_cohen_kappa = np.mean(cohen_kappa_scores)\n",
        "    print(f\"Average Cohen's Kappa: {average_cohen_kappa}\")"
      ]
    },
    {
      "cell_type": "code",
      "source": [
        "import pandas as pd\n",
        "import numpy as np\n",
        "from statsmodels.stats.inter_rater import fleiss_kappa\n",
        "\n",
        "# Step 1: Read the CSV files\n",
        "file1 = pd.read_csv('file1_cv.csv')\n",
        "file2 = pd.read_csv('file2_cv.csv')\n",
        "file3 = pd.read_csv('file3_cv.csv')\n",
        "\n",
        "# Step 2: Extract the 'truck label' column\n",
        "labels_1 = file1['truck_label']\n",
        "labels_2 = file2['truck_label']\n",
        "labels_3 = file3['truck_label']\n",
        "\n",
        "# Step 3: Combine the labels into a single DataFrame\n",
        "data = pd.DataFrame({\n",
        "    'Rater1': labels_1,\n",
        "    'Rater2': labels_2,\n",
        "    'Rater3': labels_3\n",
        "})\n",
        "\n",
        "# Step 4: Map labels to numerical values (Truck = 1, No Truck = 0)\n",
        "data = data.replace({'Truck': 1, 'No Truck': 0})\n",
        "\n",
        "# Step 5: Create the matrix for Fleiss' kappa\n",
        "# Convert each row into the count of occurrences for each category\n",
        "category_counts = data.apply(pd.Series.value_counts, axis=1).fillna(0).astype(int)\n",
        "\n",
        "# Ensure columns are in the correct order (0, 1)\n",
        "category_counts = category_counts.reindex(columns=[0, 1], fill_value=0)\n",
        "\n",
        "# Step 6: Calculate Fleiss' kappa\n",
        "kappa = fleiss_kappa(category_counts.values)\n",
        "print(f\"Fleiss' kappa: {kappa}\")\n"
      ],
      "metadata": {
        "id": "AlXMMRq7cVoQ",
        "colab": {
          "base_uri": "https://localhost:8080/"
        },
        "outputId": "056b8a90-71fb-4c06-fe85-c1eca1168b15"
      },
      "execution_count": null,
      "outputs": [
        {
          "output_type": "stream",
          "name": "stdout",
          "text": [
            "Fleiss' kappa: 0.8136645962732917\n"
          ]
        },
        {
          "output_type": "stream",
          "name": "stderr",
          "text": [
            "<ipython-input-13-c52b25bd4ac1>:23: FutureWarning: Downcasting behavior in `replace` is deprecated and will be removed in a future version. To retain the old behavior, explicitly call `result.infer_objects(copy=False)`. To opt-in to the future behavior, set `pd.set_option('future.no_silent_downcasting', True)`\n",
            "  data = data.replace({'Truck': 1, 'No Truck': 0})\n"
          ]
        }
      ]
    },
    {
      "cell_type": "code",
      "source": [],
      "metadata": {
        "id": "s2VwkBafajzB"
      },
      "execution_count": null,
      "outputs": []
    }
  ]
}